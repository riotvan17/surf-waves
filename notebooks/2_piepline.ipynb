{
 "cells": [
  {
   "cell_type": "code",
   "execution_count": 1,
   "metadata": {},
   "outputs": [
    {
     "data": {
      "text/plain": [
       "'..'"
      ]
     },
     "execution_count": 1,
     "metadata": {},
     "output_type": "execute_result"
    }
   ],
   "source": [
    "import pandas as pd\n",
    "import numpy as np\n",
    "from sklearn.pipeline import Pipeline\n",
    "from sklearn.preprocessing import RobustScaler,FunctionTransformer\n",
    "from sklearn.experimental import enable_iterative_imputer\n",
    "from sklearn.impute import IterativeImputer\n",
    "from sklearn.compose import make_column_transformer\n",
    "import pickle\n",
    "import sys\n",
    "sys.path.append('..')\n",
    "from utils import trans_func, cos_list,sin_list\n",
    "sys.path.pop()"
   ]
  },
  {
   "cell_type": "code",
   "execution_count": 2,
   "metadata": {},
   "outputs": [],
   "source": [
    "df_Kn = pd.read_csv('../raw_data/Kn_data.csv', index_col = 'Timestamp')\n",
    "df_Dp = pd.read_csv('../raw_data/Dp_data.csv', index_col = 'Timestamp')\n",
    "df_Oo = pd.read_csv('../raw_data/Oo_data.csv', index_col = 'Timestamp')"
   ]
  },
  {
   "cell_type": "code",
   "execution_count": 3,
   "metadata": {},
   "outputs": [],
   "source": [
    "df_Kn = df_Kn.dropna()\n",
    "df_Dp = df_Dp.dropna()\n",
    "df_Oo = df_Oo.dropna()"
   ]
  },
  {
   "cell_type": "code",
   "execution_count": 11,
   "metadata": {},
   "outputs": [
    {
     "data": {
      "text/html": [
       "<style>#sk-container-id-3 {color: black;background-color: white;}#sk-container-id-3 pre{padding: 0;}#sk-container-id-3 div.sk-toggleable {background-color: white;}#sk-container-id-3 label.sk-toggleable__label {cursor: pointer;display: block;width: 100%;margin-bottom: 0;padding: 0.3em;box-sizing: border-box;text-align: center;}#sk-container-id-3 label.sk-toggleable__label-arrow:before {content: \"▸\";float: left;margin-right: 0.25em;color: #696969;}#sk-container-id-3 label.sk-toggleable__label-arrow:hover:before {color: black;}#sk-container-id-3 div.sk-estimator:hover label.sk-toggleable__label-arrow:before {color: black;}#sk-container-id-3 div.sk-toggleable__content {max-height: 0;max-width: 0;overflow: hidden;text-align: left;background-color: #f0f8ff;}#sk-container-id-3 div.sk-toggleable__content pre {margin: 0.2em;color: black;border-radius: 0.25em;background-color: #f0f8ff;}#sk-container-id-3 input.sk-toggleable__control:checked~div.sk-toggleable__content {max-height: 200px;max-width: 100%;overflow: auto;}#sk-container-id-3 input.sk-toggleable__control:checked~label.sk-toggleable__label-arrow:before {content: \"▾\";}#sk-container-id-3 div.sk-estimator input.sk-toggleable__control:checked~label.sk-toggleable__label {background-color: #d4ebff;}#sk-container-id-3 div.sk-label input.sk-toggleable__control:checked~label.sk-toggleable__label {background-color: #d4ebff;}#sk-container-id-3 input.sk-hidden--visually {border: 0;clip: rect(1px 1px 1px 1px);clip: rect(1px, 1px, 1px, 1px);height: 1px;margin: -1px;overflow: hidden;padding: 0;position: absolute;width: 1px;}#sk-container-id-3 div.sk-estimator {font-family: monospace;background-color: #f0f8ff;border: 1px dotted black;border-radius: 0.25em;box-sizing: border-box;margin-bottom: 0.5em;}#sk-container-id-3 div.sk-estimator:hover {background-color: #d4ebff;}#sk-container-id-3 div.sk-parallel-item::after {content: \"\";width: 100%;border-bottom: 1px solid gray;flex-grow: 1;}#sk-container-id-3 div.sk-label:hover label.sk-toggleable__label {background-color: #d4ebff;}#sk-container-id-3 div.sk-serial::before {content: \"\";position: absolute;border-left: 1px solid gray;box-sizing: border-box;top: 0;bottom: 0;left: 50%;z-index: 0;}#sk-container-id-3 div.sk-serial {display: flex;flex-direction: column;align-items: center;background-color: white;padding-right: 0.2em;padding-left: 0.2em;position: relative;}#sk-container-id-3 div.sk-item {position: relative;z-index: 1;}#sk-container-id-3 div.sk-parallel {display: flex;align-items: stretch;justify-content: center;background-color: white;position: relative;}#sk-container-id-3 div.sk-item::before, #sk-container-id-3 div.sk-parallel-item::before {content: \"\";position: absolute;border-left: 1px solid gray;box-sizing: border-box;top: 0;bottom: 0;left: 50%;z-index: -1;}#sk-container-id-3 div.sk-parallel-item {display: flex;flex-direction: column;z-index: 1;position: relative;background-color: white;}#sk-container-id-3 div.sk-parallel-item:first-child::after {align-self: flex-end;width: 50%;}#sk-container-id-3 div.sk-parallel-item:last-child::after {align-self: flex-start;width: 50%;}#sk-container-id-3 div.sk-parallel-item:only-child::after {width: 0;}#sk-container-id-3 div.sk-dashed-wrapped {border: 1px dashed gray;margin: 0 0.4em 0.5em 0.4em;box-sizing: border-box;padding-bottom: 0.4em;background-color: white;}#sk-container-id-3 div.sk-label label {font-family: monospace;font-weight: bold;display: inline-block;line-height: 1.2em;}#sk-container-id-3 div.sk-label-container {text-align: center;}#sk-container-id-3 div.sk-container {/* jupyter's `normalize.less` sets `[hidden] { display: none; }` but bootstrap.min.css set `[hidden] { display: none !important; }` so we also need the `!important` here to be able to override the default hidden behavior on the sphinx rendered scikit-learn.org. See: https://github.com/scikit-learn/scikit-learn/issues/21755 */display: inline-block !important;position: relative;}#sk-container-id-3 div.sk-text-repr-fallback {display: none;}</style><div id=\"sk-container-id-3\" class=\"sk-top-container\"><div class=\"sk-text-repr-fallback\"><pre>Pipeline(steps=[(&#x27;preproc&#x27;,\n",
       "                 ColumnTransformer(transformers=[(&#x27;robustscaler&#x27;,\n",
       "                                                  RobustScaler(),\n",
       "                                                  [&#x27;wave_period&#x27;,\n",
       "                                                   &#x27;wind_speed&#x27;]),\n",
       "                                                 (&#x27;functiontransformer-1&#x27;,\n",
       "                                                  FunctionTransformer(func=&lt;function trans_func at 0x164e2faf0&gt;),\n",
       "                                                  [&#x27;tide&#x27;]),\n",
       "                                                 (&#x27;functiontransformer-2&#x27;,\n",
       "                                                  FunctionTransformer(func=&lt;function sin_list at 0x164e2fc10&gt;),\n",
       "                                                  [&#x27;wind_direction&#x27;]),\n",
       "                                                 (&#x27;functiontransformer-3&#x27;,\n",
       "                                                  FunctionTransformer(func=&lt;function cos_list at 0x164e2fb80&gt;),\n",
       "                                                  [&#x27;wind_direction&#x27;])])),\n",
       "                (&#x27;imputer&#x27;, IterativeImputer())])</pre><b>In a Jupyter environment, please rerun this cell to show the HTML representation or trust the notebook. <br />On GitHub, the HTML representation is unable to render, please try loading this page with nbviewer.org.</b></div><div class=\"sk-container\" hidden><div class=\"sk-item sk-dashed-wrapped\"><div class=\"sk-label-container\"><div class=\"sk-label sk-toggleable\"><input class=\"sk-toggleable__control sk-hidden--visually\" id=\"sk-estimator-id-25\" type=\"checkbox\" ><label for=\"sk-estimator-id-25\" class=\"sk-toggleable__label sk-toggleable__label-arrow\">Pipeline</label><div class=\"sk-toggleable__content\"><pre>Pipeline(steps=[(&#x27;preproc&#x27;,\n",
       "                 ColumnTransformer(transformers=[(&#x27;robustscaler&#x27;,\n",
       "                                                  RobustScaler(),\n",
       "                                                  [&#x27;wave_period&#x27;,\n",
       "                                                   &#x27;wind_speed&#x27;]),\n",
       "                                                 (&#x27;functiontransformer-1&#x27;,\n",
       "                                                  FunctionTransformer(func=&lt;function trans_func at 0x164e2faf0&gt;),\n",
       "                                                  [&#x27;tide&#x27;]),\n",
       "                                                 (&#x27;functiontransformer-2&#x27;,\n",
       "                                                  FunctionTransformer(func=&lt;function sin_list at 0x164e2fc10&gt;),\n",
       "                                                  [&#x27;wind_direction&#x27;]),\n",
       "                                                 (&#x27;functiontransformer-3&#x27;,\n",
       "                                                  FunctionTransformer(func=&lt;function cos_list at 0x164e2fb80&gt;),\n",
       "                                                  [&#x27;wind_direction&#x27;])])),\n",
       "                (&#x27;imputer&#x27;, IterativeImputer())])</pre></div></div></div><div class=\"sk-serial\"><div class=\"sk-item sk-dashed-wrapped\"><div class=\"sk-label-container\"><div class=\"sk-label sk-toggleable\"><input class=\"sk-toggleable__control sk-hidden--visually\" id=\"sk-estimator-id-26\" type=\"checkbox\" ><label for=\"sk-estimator-id-26\" class=\"sk-toggleable__label sk-toggleable__label-arrow\">preproc: ColumnTransformer</label><div class=\"sk-toggleable__content\"><pre>ColumnTransformer(transformers=[(&#x27;robustscaler&#x27;, RobustScaler(),\n",
       "                                 [&#x27;wave_period&#x27;, &#x27;wind_speed&#x27;]),\n",
       "                                (&#x27;functiontransformer-1&#x27;,\n",
       "                                 FunctionTransformer(func=&lt;function trans_func at 0x164e2faf0&gt;),\n",
       "                                 [&#x27;tide&#x27;]),\n",
       "                                (&#x27;functiontransformer-2&#x27;,\n",
       "                                 FunctionTransformer(func=&lt;function sin_list at 0x164e2fc10&gt;),\n",
       "                                 [&#x27;wind_direction&#x27;]),\n",
       "                                (&#x27;functiontransformer-3&#x27;,\n",
       "                                 FunctionTransformer(func=&lt;function cos_list at 0x164e2fb80&gt;),\n",
       "                                 [&#x27;wind_direction&#x27;])])</pre></div></div></div><div class=\"sk-parallel\"><div class=\"sk-parallel-item\"><div class=\"sk-item\"><div class=\"sk-label-container\"><div class=\"sk-label sk-toggleable\"><input class=\"sk-toggleable__control sk-hidden--visually\" id=\"sk-estimator-id-27\" type=\"checkbox\" ><label for=\"sk-estimator-id-27\" class=\"sk-toggleable__label sk-toggleable__label-arrow\">robustscaler</label><div class=\"sk-toggleable__content\"><pre>[&#x27;wave_period&#x27;, &#x27;wind_speed&#x27;]</pre></div></div></div><div class=\"sk-serial\"><div class=\"sk-item\"><div class=\"sk-estimator sk-toggleable\"><input class=\"sk-toggleable__control sk-hidden--visually\" id=\"sk-estimator-id-28\" type=\"checkbox\" ><label for=\"sk-estimator-id-28\" class=\"sk-toggleable__label sk-toggleable__label-arrow\">RobustScaler</label><div class=\"sk-toggleable__content\"><pre>RobustScaler()</pre></div></div></div></div></div></div><div class=\"sk-parallel-item\"><div class=\"sk-item\"><div class=\"sk-label-container\"><div class=\"sk-label sk-toggleable\"><input class=\"sk-toggleable__control sk-hidden--visually\" id=\"sk-estimator-id-29\" type=\"checkbox\" ><label for=\"sk-estimator-id-29\" class=\"sk-toggleable__label sk-toggleable__label-arrow\">functiontransformer-1</label><div class=\"sk-toggleable__content\"><pre>[&#x27;tide&#x27;]</pre></div></div></div><div class=\"sk-serial\"><div class=\"sk-item\"><div class=\"sk-estimator sk-toggleable\"><input class=\"sk-toggleable__control sk-hidden--visually\" id=\"sk-estimator-id-30\" type=\"checkbox\" ><label for=\"sk-estimator-id-30\" class=\"sk-toggleable__label sk-toggleable__label-arrow\">FunctionTransformer</label><div class=\"sk-toggleable__content\"><pre>FunctionTransformer(func=&lt;function trans_func at 0x164e2faf0&gt;)</pre></div></div></div></div></div></div><div class=\"sk-parallel-item\"><div class=\"sk-item\"><div class=\"sk-label-container\"><div class=\"sk-label sk-toggleable\"><input class=\"sk-toggleable__control sk-hidden--visually\" id=\"sk-estimator-id-31\" type=\"checkbox\" ><label for=\"sk-estimator-id-31\" class=\"sk-toggleable__label sk-toggleable__label-arrow\">functiontransformer-2</label><div class=\"sk-toggleable__content\"><pre>[&#x27;wind_direction&#x27;]</pre></div></div></div><div class=\"sk-serial\"><div class=\"sk-item\"><div class=\"sk-estimator sk-toggleable\"><input class=\"sk-toggleable__control sk-hidden--visually\" id=\"sk-estimator-id-32\" type=\"checkbox\" ><label for=\"sk-estimator-id-32\" class=\"sk-toggleable__label sk-toggleable__label-arrow\">FunctionTransformer</label><div class=\"sk-toggleable__content\"><pre>FunctionTransformer(func=&lt;function sin_list at 0x164e2fc10&gt;)</pre></div></div></div></div></div></div><div class=\"sk-parallel-item\"><div class=\"sk-item\"><div class=\"sk-label-container\"><div class=\"sk-label sk-toggleable\"><input class=\"sk-toggleable__control sk-hidden--visually\" id=\"sk-estimator-id-33\" type=\"checkbox\" ><label for=\"sk-estimator-id-33\" class=\"sk-toggleable__label sk-toggleable__label-arrow\">functiontransformer-3</label><div class=\"sk-toggleable__content\"><pre>[&#x27;wind_direction&#x27;]</pre></div></div></div><div class=\"sk-serial\"><div class=\"sk-item\"><div class=\"sk-estimator sk-toggleable\"><input class=\"sk-toggleable__control sk-hidden--visually\" id=\"sk-estimator-id-34\" type=\"checkbox\" ><label for=\"sk-estimator-id-34\" class=\"sk-toggleable__label sk-toggleable__label-arrow\">FunctionTransformer</label><div class=\"sk-toggleable__content\"><pre>FunctionTransformer(func=&lt;function cos_list at 0x164e2fb80&gt;)</pre></div></div></div></div></div></div></div></div><div class=\"sk-item\"><div class=\"sk-estimator sk-toggleable\"><input class=\"sk-toggleable__control sk-hidden--visually\" id=\"sk-estimator-id-35\" type=\"checkbox\" ><label for=\"sk-estimator-id-35\" class=\"sk-toggleable__label sk-toggleable__label-arrow\">IterativeImputer</label><div class=\"sk-toggleable__content\"><pre>IterativeImputer()</pre></div></div></div></div></div></div></div>"
      ],
      "text/plain": [
       "Pipeline(steps=[('preproc',\n",
       "                 ColumnTransformer(transformers=[('robustscaler',\n",
       "                                                  RobustScaler(),\n",
       "                                                  ['wave_period',\n",
       "                                                   'wind_speed']),\n",
       "                                                 ('functiontransformer-1',\n",
       "                                                  FunctionTransformer(func=<function trans_func at 0x164e2faf0>),\n",
       "                                                  ['tide']),\n",
       "                                                 ('functiontransformer-2',\n",
       "                                                  FunctionTransformer(func=<function sin_list at 0x164e2fc10>),\n",
       "                                                  ['wind_direction']),\n",
       "                                                 ('functiontransformer-3',\n",
       "                                                  FunctionTransformer(func=<function cos_list at 0x164e2fb80>),\n",
       "                                                  ['wind_direction'])])),\n",
       "                ('imputer', IterativeImputer())])"
      ]
     },
     "execution_count": 11,
     "metadata": {},
     "output_type": "execute_result"
    }
   ],
   "source": [
    "num_transformer = RobustScaler()\n",
    "custom_tr = FunctionTransformer(trans_func)\n",
    "cycle_tr_sin = FunctionTransformer(sin_list)\n",
    "cycle_tr_cos = FunctionTransformer(cos_list)\n",
    "\n",
    "preprocessor_tr = make_column_transformer(\n",
    "    (num_transformer, ['wave_period', 'wind_speed']),\n",
    "    (custom_tr, ['tide']),\n",
    "    (cycle_tr_sin, ['wind_direction']),\n",
    "    (cycle_tr_cos, ['wind_direction'])\n",
    "    #remainder='passthrough'\n",
    "    )   \n",
    "\n",
    "\n",
    "pipe_preproc = Pipeline([\n",
    "    ('preproc', preprocessor_tr),\n",
    "    ('imputer', IterativeImputer())\n",
    "])\n",
    "pipe_preproc"
   ]
  },
  {
   "cell_type": "code",
   "execution_count": 12,
   "metadata": {},
   "outputs": [],
   "source": [
    "df_Kn_model = pipe_preproc.fit(df_Kn)\n",
    "df_Dp_model = pipe_preproc.fit(df_Dp)\n",
    "df_Oo_model = pipe_preproc.fit(df_Oo)"
   ]
  },
  {
   "cell_type": "code",
   "execution_count": 13,
   "metadata": {},
   "outputs": [],
   "source": [
    "with open(\"../raw_data/pipeline_Kn.pkl\", \"wb\") as file:\n",
    "    pickle.dump(df_Kn_model, file)\n",
    "    \n",
    "with open(\"../raw_data/pipeline_Dp.pkl\", \"wb\") as file:\n",
    "    pickle.dump(df_Dp_model, file)\n",
    "    \n",
    "with open(\"../raw_data/pipeline_Oo.pkl\", \"wb\") as file:\n",
    "    pickle.dump(df_Oo_model, file)"
   ]
  },
  {
   "cell_type": "code",
   "execution_count": 15,
   "metadata": {},
   "outputs": [],
   "source": [
    "cols = ['wave_period', 'wind_speed', 'tide', 'wind_direction_sin', 'wind_direction_cos']\n",
    "pd.DataFrame(df_Kn_model.transform(df_Kn), columns=cols).to_csv('../raw_data/Kn_data_preproc.csv')\n",
    "pd.DataFrame(df_Dp_model.transform(df_Dp), columns=cols).to_csv('../raw_data/Dp_data_preproc.csv')\n",
    "pd.DataFrame(df_Oo_model.transform(df_Oo), columns=cols).to_csv('../raw_data/Oo_data_preproc.csv')"
   ]
  },
  {
   "cell_type": "code",
   "execution_count": 17,
   "metadata": {},
   "outputs": [],
   "source": [
    "df_Kn['wave_height'].to_csv('../raw_data/Kn_data_y.csv')\n",
    "df_Dp['wave_height'].to_csv('../raw_data/Dp_data_y.csv')\n",
    "df_Oo['wave_height'].to_csv('../raw_data/Oo_data_y.csv')"
   ]
  }
 ],
 "metadata": {
  "kernelspec": {
   "display_name": "Python 3.8.13 64-bit ('shims')",
   "language": "python",
   "name": "python3"
  },
  "language_info": {
   "codemirror_mode": {
    "name": "ipython",
    "version": 3
   },
   "file_extension": ".py",
   "mimetype": "text/x-python",
   "name": "python",
   "nbconvert_exporter": "python",
   "pygments_lexer": "ipython3",
   "version": "3.8.13"
  },
  "orig_nbformat": 4,
  "vscode": {
   "interpreter": {
    "hash": "bebf96be514e4a040725a8725f1a0d223f69169051722105abc6b4c0bfd7c9cc"
   }
  }
 },
 "nbformat": 4,
 "nbformat_minor": 2
}
