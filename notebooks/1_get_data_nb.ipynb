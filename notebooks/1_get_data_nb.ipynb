{
 "cells": [
  {
   "cell_type": "code",
   "execution_count": 1,
   "metadata": {},
   "outputs": [],
   "source": [
    "import pandas as pd\n",
    "import sys\n",
    "import numpy as np\n",
    "import os"
   ]
  },
  {
   "cell_type": "code",
   "execution_count": 2,
   "metadata": {},
   "outputs": [
    {
     "ename": "KeyError",
     "evalue": "'TOKEN_2'",
     "output_type": "error",
     "traceback": [
      "\u001b[0;31m---------------------------------------------------------------------------\u001b[0m",
      "\u001b[0;31mKeyError\u001b[0m                                  Traceback (most recent call last)",
      "\u001b[0;32m/var/folders/2z/7f2tkw5n0xn9n2y28g_v96600000gn/T/ipykernel_602/552342426.py\u001b[0m in \u001b[0;36m<module>\u001b[0;34m\u001b[0m\n\u001b[1;32m      1\u001b[0m \u001b[0msys\u001b[0m\u001b[0;34m.\u001b[0m\u001b[0mpath\u001b[0m\u001b[0;34m.\u001b[0m\u001b[0mappend\u001b[0m\u001b[0;34m(\u001b[0m\u001b[0;34m'..'\u001b[0m\u001b[0;34m)\u001b[0m\u001b[0;34m\u001b[0m\u001b[0;34m\u001b[0m\u001b[0m\n\u001b[0;32m----> 2\u001b[0;31m \u001b[0;32mfrom\u001b[0m \u001b[0mutils\u001b[0m \u001b[0;32mimport\u001b[0m \u001b[0mget_historical_data_wave\u001b[0m\u001b[0;34m,\u001b[0m \u001b[0mget_historical_data_tide\u001b[0m\u001b[0;34m,\u001b[0m \u001b[0mget_historical_data_wind\u001b[0m\u001b[0;34m,\u001b[0m\u001b[0mtest_api\u001b[0m\u001b[0;34m\u001b[0m\u001b[0;34m\u001b[0m\u001b[0m\n\u001b[0m\u001b[1;32m      3\u001b[0m \u001b[0msys\u001b[0m\u001b[0;34m.\u001b[0m\u001b[0mpath\u001b[0m\u001b[0;34m.\u001b[0m\u001b[0mpop\u001b[0m\u001b[0;34m(\u001b[0m\u001b[0;34m)\u001b[0m\u001b[0;34m\u001b[0m\u001b[0;34m\u001b[0m\u001b[0m\n",
      "\u001b[0;32m~/code/christinehick/SurfWaves/notebooks/../utils.py\u001b[0m in \u001b[0;36m<module>\u001b[0;34m\u001b[0m\n\u001b[1;32m     10\u001b[0m \u001b[0;32mimport\u001b[0m \u001b[0mmath\u001b[0m\u001b[0;34m\u001b[0m\u001b[0;34m\u001b[0m\u001b[0m\n\u001b[1;32m     11\u001b[0m \u001b[0;34m\u001b[0m\u001b[0m\n\u001b[0;32m---> 12\u001b[0;31m \u001b[0mTOKEN_2\u001b[0m \u001b[0;34m=\u001b[0m \u001b[0mos\u001b[0m\u001b[0;34m.\u001b[0m\u001b[0menviron\u001b[0m\u001b[0;34m[\u001b[0m\u001b[0;34m'TOKEN_2'\u001b[0m\u001b[0;34m]\u001b[0m\u001b[0;34m\u001b[0m\u001b[0;34m\u001b[0m\u001b[0m\n\u001b[0m\u001b[1;32m     13\u001b[0m \u001b[0mAPI_USER\u001b[0m \u001b[0;34m=\u001b[0m \u001b[0mos\u001b[0m\u001b[0;34m.\u001b[0m\u001b[0menviron\u001b[0m\u001b[0;34m[\u001b[0m\u001b[0;34m'API_USER'\u001b[0m\u001b[0;34m]\u001b[0m\u001b[0;34m\u001b[0m\u001b[0;34m\u001b[0m\u001b[0m\n\u001b[1;32m     14\u001b[0m \u001b[0mAPI_PASS\u001b[0m \u001b[0;34m=\u001b[0m \u001b[0mos\u001b[0m\u001b[0;34m.\u001b[0m\u001b[0menviron\u001b[0m\u001b[0;34m[\u001b[0m\u001b[0;34m'API_PASS'\u001b[0m\u001b[0;34m]\u001b[0m\u001b[0;34m\u001b[0m\u001b[0;34m\u001b[0m\u001b[0m\n",
      "\u001b[0;32m~/.pyenv/versions/3.8.13/lib/python3.8/os.py\u001b[0m in \u001b[0;36m__getitem__\u001b[0;34m(self, key)\u001b[0m\n\u001b[1;32m    673\u001b[0m         \u001b[0;32mexcept\u001b[0m \u001b[0mKeyError\u001b[0m\u001b[0;34m:\u001b[0m\u001b[0;34m\u001b[0m\u001b[0;34m\u001b[0m\u001b[0m\n\u001b[1;32m    674\u001b[0m             \u001b[0;31m# raise KeyError with the original key value\u001b[0m\u001b[0;34m\u001b[0m\u001b[0;34m\u001b[0m\u001b[0;34m\u001b[0m\u001b[0m\n\u001b[0;32m--> 675\u001b[0;31m             \u001b[0;32mraise\u001b[0m \u001b[0mKeyError\u001b[0m\u001b[0;34m(\u001b[0m\u001b[0mkey\u001b[0m\u001b[0;34m)\u001b[0m \u001b[0;32mfrom\u001b[0m \u001b[0;32mNone\u001b[0m\u001b[0;34m\u001b[0m\u001b[0;34m\u001b[0m\u001b[0m\n\u001b[0m\u001b[1;32m    676\u001b[0m         \u001b[0;32mreturn\u001b[0m \u001b[0mself\u001b[0m\u001b[0;34m.\u001b[0m\u001b[0mdecodevalue\u001b[0m\u001b[0;34m(\u001b[0m\u001b[0mvalue\u001b[0m\u001b[0;34m)\u001b[0m\u001b[0;34m\u001b[0m\u001b[0;34m\u001b[0m\u001b[0m\n\u001b[1;32m    677\u001b[0m \u001b[0;34m\u001b[0m\u001b[0m\n",
      "\u001b[0;31mKeyError\u001b[0m: 'TOKEN_2'"
     ]
    }
   ],
   "source": [
    "sys.path.append('..')\n",
    "from utils import get_historical_data_wave, get_historical_data_tide, get_historical_data_wind,test_api\n",
    "sys.path.pop()"
   ]
  },
  {
   "cell_type": "code",
   "execution_count": null,
   "metadata": {},
   "outputs": [],
   "source": [
    "test_api()"
   ]
  },
  {
   "cell_type": "code",
   "execution_count": 3,
   "metadata": {},
   "outputs": [],
   "source": [
    "wind_Kn_hist = get_historical_data_wind(location='Knokke')\n",
    "wind_Dp_hist = get_historical_data_wind(location='Nieuwpoort')\n",
    "wind_Oo_hist = get_historical_data_wind(location='Oostende')"
   ]
  },
  {
   "cell_type": "code",
   "execution_count": 4,
   "metadata": {},
   "outputs": [],
   "source": [
    "wave_Kn_hist = get_historical_data_wave(2000,2023,'ZHG')\n",
    "wave_Dp_hist = get_historical_data_wave(2000,2023,'NPB')\n",
    "wave_Oo_hist = get_historical_data_wave(2000,2023,'OST')"
   ]
  },
  {
   "cell_type": "code",
   "execution_count": 5,
   "metadata": {},
   "outputs": [
    {
     "name": "stdout",
     "output_type": "stream",
     "text": [
      "1/11\n",
      "2/11\n",
      "3/11\n",
      "4/11\n",
      "5/11\n",
      "6/11\n",
      "7/11\n",
      "8/11\n",
      "9/11\n",
      "10/11\n",
      "11/11\n"
     ]
    }
   ],
   "source": [
    "tide_hist = get_historical_data_tide()"
   ]
  },
  {
   "cell_type": "code",
   "execution_count": 6,
   "metadata": {},
   "outputs": [
    {
     "data": {
      "text/html": [
       "<div>\n",
       "<style scoped>\n",
       "    .dataframe tbody tr th:only-of-type {\n",
       "        vertical-align: middle;\n",
       "    }\n",
       "\n",
       "    .dataframe tbody tr th {\n",
       "        vertical-align: top;\n",
       "    }\n",
       "\n",
       "    .dataframe thead th {\n",
       "        text-align: right;\n",
       "    }\n",
       "</style>\n",
       "<table border=\"1\" class=\"dataframe\">\n",
       "  <thead>\n",
       "    <tr style=\"text-align: right;\">\n",
       "      <th></th>\n",
       "      <th>wave_height</th>\n",
       "      <th>wave_period</th>\n",
       "    </tr>\n",
       "    <tr>\n",
       "      <th>Timestamp</th>\n",
       "      <th></th>\n",
       "      <th></th>\n",
       "    </tr>\n",
       "  </thead>\n",
       "  <tbody>\n",
       "    <tr>\n",
       "      <th>2019-02-22 13:30:00+00:00</th>\n",
       "      <td>19.0</td>\n",
       "      <td>2.83</td>\n",
       "    </tr>\n",
       "    <tr>\n",
       "      <th>2019-02-22 14:00:00+00:00</th>\n",
       "      <td>19.0</td>\n",
       "      <td>3.01</td>\n",
       "    </tr>\n",
       "    <tr>\n",
       "      <th>2019-02-22 14:30:00+00:00</th>\n",
       "      <td>21.0</td>\n",
       "      <td>3.31</td>\n",
       "    </tr>\n",
       "    <tr>\n",
       "      <th>2019-02-22 15:00:00+00:00</th>\n",
       "      <td>18.0</td>\n",
       "      <td>3.29</td>\n",
       "    </tr>\n",
       "    <tr>\n",
       "      <th>2019-02-22 15:30:00+00:00</th>\n",
       "      <td>17.0</td>\n",
       "      <td>3.61</td>\n",
       "    </tr>\n",
       "    <tr>\n",
       "      <th>...</th>\n",
       "      <td>...</td>\n",
       "      <td>...</td>\n",
       "    </tr>\n",
       "    <tr>\n",
       "      <th>2022-05-28 22:00:00+00:00</th>\n",
       "      <td>84.0</td>\n",
       "      <td>3.56</td>\n",
       "    </tr>\n",
       "    <tr>\n",
       "      <th>2022-05-28 22:30:00+00:00</th>\n",
       "      <td>86.0</td>\n",
       "      <td>3.63</td>\n",
       "    </tr>\n",
       "    <tr>\n",
       "      <th>2022-05-28 23:00:00+00:00</th>\n",
       "      <td>93.0</td>\n",
       "      <td>3.74</td>\n",
       "    </tr>\n",
       "    <tr>\n",
       "      <th>2022-05-28 23:30:00+00:00</th>\n",
       "      <td>89.0</td>\n",
       "      <td>3.79</td>\n",
       "    </tr>\n",
       "    <tr>\n",
       "      <th>2022-05-29 00:00:00+00:00</th>\n",
       "      <td>92.0</td>\n",
       "      <td>4.07</td>\n",
       "    </tr>\n",
       "  </tbody>\n",
       "</table>\n",
       "<p>56927 rows × 2 columns</p>\n",
       "</div>"
      ],
      "text/plain": [
       "                           wave_height  wave_period\n",
       "Timestamp                                          \n",
       "2019-02-22 13:30:00+00:00         19.0         2.83\n",
       "2019-02-22 14:00:00+00:00         19.0         3.01\n",
       "2019-02-22 14:30:00+00:00         21.0         3.31\n",
       "2019-02-22 15:00:00+00:00         18.0         3.29\n",
       "2019-02-22 15:30:00+00:00         17.0         3.61\n",
       "...                                ...          ...\n",
       "2022-05-28 22:00:00+00:00         84.0         3.56\n",
       "2022-05-28 22:30:00+00:00         86.0         3.63\n",
       "2022-05-28 23:00:00+00:00         93.0         3.74\n",
       "2022-05-28 23:30:00+00:00         89.0         3.79\n",
       "2022-05-29 00:00:00+00:00         92.0         4.07\n",
       "\n",
       "[56927 rows x 2 columns]"
      ]
     },
     "execution_count": 6,
     "metadata": {},
     "output_type": "execute_result"
    }
   ],
   "source": [
    "wave_Kn_hist"
   ]
  },
  {
   "cell_type": "code",
   "execution_count": 8,
   "metadata": {},
   "outputs": [],
   "source": [
    "combined_Kn = wave_Kn_hist.merge(wind_Kn_hist, on='Timestamp', how='left')\n",
    "combined_Kn = combined_Kn.merge(tide_hist, on='Timestamp', how='left')\n",
    "\n",
    "combined_Dp = wave_Dp_hist.merge(wind_Dp_hist, on='Timestamp', how='left')\n",
    "combined_Dp = combined_Dp.merge(tide_hist, on='Timestamp', how='left')\n",
    "\n",
    "combined_Oo = wave_Oo_hist.merge(wind_Oo_hist, on='Timestamp', how='left')\n",
    "combined_Oo = combined_Oo.merge(tide_hist, on='Timestamp', how='left')"
   ]
  },
  {
   "cell_type": "code",
   "execution_count": 11,
   "metadata": {},
   "outputs": [],
   "source": [
    "combined_Kn = combined_Kn.dropna(axis = 0, how = 'all')\n",
    "combined_Dp = combined_Dp.dropna(axis = 0, how = 'all')\n",
    "combined_Oo = combined_Oo.dropna(axis = 0, how = 'all')"
   ]
  },
  {
   "cell_type": "code",
   "execution_count": 14,
   "metadata": {},
   "outputs": [],
   "source": [
    "combined_Kn.to_csv('../raw_data/Kn_data.csv')\n",
    "combined_Dp.to_csv('../raw_data/Dp_data.csv')\n",
    "combined_Oo.to_csv('../raw_data/Oo_data.csv')"
   ]
  }
 ],
 "metadata": {
  "kernelspec": {
   "display_name": "Python 3.8.13 64-bit ('shims')",
   "language": "python",
   "name": "python3"
  },
  "language_info": {
   "codemirror_mode": {
    "name": "ipython",
    "version": 3
   },
   "file_extension": ".py",
   "mimetype": "text/x-python",
   "name": "python",
   "nbconvert_exporter": "python",
   "pygments_lexer": "ipython3",
   "version": "3.8.13"
  },
  "orig_nbformat": 4,
  "vscode": {
   "interpreter": {
    "hash": "bebf96be514e4a040725a8725f1a0d223f69169051722105abc6b4c0bfd7c9cc"
   }
  }
 },
 "nbformat": 4,
 "nbformat_minor": 2
}
