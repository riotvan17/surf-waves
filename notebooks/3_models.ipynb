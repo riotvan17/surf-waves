{
 "cells": [
  {
   "cell_type": "code",
   "execution_count": 18,
   "metadata": {},
   "outputs": [],
   "source": [
    "import pandas as pd\n",
    "import numpy as np\n",
    "\n",
    "from sklearn.model_selection import train_test_split, cross_validate, GridSearchCV\n",
    "from sklearn.neighbors import KNeighborsRegressor\n",
    "from xgboost import XGBRegressor\n",
    "from sklearn.tree import DecisionTreeRegressor\n",
    "from sklearn.ensemble import VotingRegressor\n",
    "import joblib"
   ]
  },
  {
   "cell_type": "code",
   "execution_count": 19,
   "metadata": {},
   "outputs": [],
   "source": [
    "df_Kn_X = pd.read_csv('../raw_data/Kn_data_preproc.csv', index_col = 0)\n",
    "df_Dp_X = pd.read_csv('../raw_data/Dp_data_preproc.csv', index_col = 0)\n",
    "df_Oo_X = pd.read_csv('../raw_data/Oo_data_preproc.csv', index_col = 0)"
   ]
  },
  {
   "cell_type": "code",
   "execution_count": 20,
   "metadata": {},
   "outputs": [],
   "source": [
    "df_Kn_y = pd.read_csv('../raw_data/Kn_data_y.csv', index_col = 'Timestamp')\n",
    "df_Dp_y = pd.read_csv('../raw_data/Dp_data_y.csv', index_col = 'Timestamp')\n",
    "df_Oo_y = pd.read_csv('../raw_data/Oo_data_y.csv', index_col = 'Timestamp')"
   ]
  },
  {
   "cell_type": "code",
   "execution_count": 21,
   "metadata": {},
   "outputs": [],
   "source": [
    "X_train_Kn , X_test_Kn, y_train_Kn, y_test_Kn = train_test_split(df_Kn_X, df_Kn_y, test_size = 0.3)\n",
    "X_train_Dp , X_test_Dp, y_train_Dp, y_test_Dp = train_test_split(df_Dp_X, df_Dp_y, test_size = 0.3)\n",
    "X_train_Oo , X_test_Oo, y_train_Oo, y_test_Oo = train_test_split(df_Oo_X, df_Oo_y, test_size = 0.3)"
   ]
  },
  {
   "cell_type": "markdown",
   "metadata": {},
   "source": [
    "# Knn"
   ]
  },
  {
   "cell_type": "code",
   "execution_count": 22,
   "metadata": {},
   "outputs": [
    {
     "name": "stdout",
     "output_type": "stream",
     "text": [
      "Best score is: 0.7844409269656125\n",
      "Best parameters are: {'n_neighbors': 25, 'p': 1, 'weights': 'distance'}\n",
      "Best estimator is: KNeighborsRegressor(n_neighbors=25, p=1, weights='distance')\n"
     ]
    }
   ],
   "source": [
    "#Kn\n",
    "Kn_knn = KNeighborsRegressor()\n",
    "\n",
    "grid = {'n_neighbors': [5, 10, 15, 20, 25, 50],\n",
    "        'p':[1,2], \n",
    "        'weights':['uniform', 'distance']}\n",
    "\n",
    "Kn_search_knn = GridSearchCV(Kn_knn, \n",
    "                      grid,\n",
    "                      scoring='r2',\n",
    "                      cv=5, \n",
    "                      n_jobs=-1\n",
    "                     )\n",
    "\n",
    "KNN_fitted_Kn = Kn_search_knn.fit(X_train_Kn, y_train_Kn)\n",
    "Kn_knn_score = Kn_search_knn.best_score_\n",
    "print('Best score is:', Kn_knn_score)\n",
    "print('Best parameters are:', Kn_search_knn.best_params_)\n",
    "print('Best estimator is:', Kn_search_knn.best_estimator_)"
   ]
  },
  {
   "cell_type": "code",
   "execution_count": 23,
   "metadata": {},
   "outputs": [
    {
     "name": "stdout",
     "output_type": "stream",
     "text": [
      "Best score is: 0.8267984942265603\n",
      "Best parameters are: {'n_neighbors': 25, 'p': 1, 'weights': 'uniform'}\n",
      "Best estimator is: KNeighborsRegressor(n_neighbors=25, p=1)\n"
     ]
    }
   ],
   "source": [
    "#Dp\n",
    "Dp_knn = KNeighborsRegressor()\n",
    "\n",
    "grid = {'n_neighbors': [5, 10, 15, 20, 25, 50],\n",
    "        'p':[1,2], \n",
    "        'weights':['uniform', 'distance']}\n",
    "\n",
    "Dp_search_knn = GridSearchCV(Dp_knn, \n",
    "                      grid,\n",
    "                      scoring='r2',\n",
    "                      cv=5, \n",
    "                      n_jobs=-1\n",
    "                     )\n",
    "\n",
    "KNN_fitted_Dp = Dp_search_knn.fit(X_train_Dp, y_train_Dp)\n",
    "Dp_knn_score = Dp_search_knn.best_score_\n",
    "print('Best score is:', Dp_knn_score)\n",
    "print('Best parameters are:', Dp_search_knn.best_params_)\n",
    "print('Best estimator is:', Dp_search_knn.best_estimator_)"
   ]
  },
  {
   "cell_type": "code",
   "execution_count": 24,
   "metadata": {},
   "outputs": [
    {
     "name": "stdout",
     "output_type": "stream",
     "text": [
      "Best score is: 0.799812082580501\n",
      "Best parameters are: {'n_neighbors': 50, 'p': 1, 'weights': 'uniform'}\n",
      "Best estimator is: KNeighborsRegressor(n_neighbors=50, p=1)\n"
     ]
    }
   ],
   "source": [
    "#Oo\n",
    "Oo_knn = KNeighborsRegressor()\n",
    "\n",
    "grid = {'n_neighbors': [5, 10, 15, 20, 25, 50],\n",
    "        'p':[1,2], \n",
    "        'weights':['uniform', 'distance']}\n",
    "\n",
    "Oo_search_knn = GridSearchCV(Oo_knn, \n",
    "                      grid,\n",
    "                      scoring='r2',\n",
    "                      cv=5, \n",
    "                      n_jobs=-1\n",
    "                     )\n",
    "\n",
    "KNN_fitted_Oo = Oo_search_knn.fit(X_train_Oo, y_train_Oo)\n",
    "Oo_knn_score = Oo_search_knn.best_score_\n",
    "print('Best score is:', Oo_knn_score)\n",
    "print('Best parameters are:', Oo_search_knn.best_params_)\n",
    "print('Best estimator is:', Oo_search_knn.best_estimator_)"
   ]
  },
  {
   "cell_type": "markdown",
   "metadata": {},
   "source": [
    "# XGBoost"
   ]
  },
  {
   "cell_type": "code",
   "execution_count": 25,
   "metadata": {},
   "outputs": [
    {
     "data": {
      "text/plain": [
       "0.8036032778560642"
      ]
     },
     "execution_count": 25,
     "metadata": {},
     "output_type": "execute_result"
    }
   ],
   "source": [
    "#Kn\n",
    "Kn_xgb = XGBRegressor()\n",
    "\n",
    "grid = {'max_depth': [5, 10, 15],\n",
    "        'n_estimators':[15, 20, 25, 50], \n",
    "        'learning_rate':[0.01, 0.1]}\n",
    "\n",
    "Kn_search_xgb = GridSearchCV(Kn_xgb, \n",
    "                      grid,\n",
    "                      scoring='r2',\n",
    "                      cv=5, \n",
    "                      n_jobs=-1\n",
    "                     )\n",
    "\n",
    "XGB_fitted_Kn = Kn_search_xgb.fit(X_train_Kn, y_train_Kn)\n",
    "XGB_fitted_Kn.score(X_test_Kn,y_test_Kn)"
   ]
  },
  {
   "cell_type": "code",
   "execution_count": 26,
   "metadata": {},
   "outputs": [
    {
     "data": {
      "text/plain": [
       "0.8213288917839418"
      ]
     },
     "execution_count": 26,
     "metadata": {},
     "output_type": "execute_result"
    }
   ],
   "source": [
    "#Dp\n",
    "Dp_xgb = XGBRegressor()\n",
    "\n",
    "grid = {'max_depth': [5, 10, 15],\n",
    "        'n_estimators':[15, 20, 25, 50], \n",
    "        'learning_rate':[0.01, 0.1]}\n",
    "\n",
    "Dp_search_xgb = GridSearchCV(Dp_xgb, \n",
    "                      grid,\n",
    "                      scoring='r2',\n",
    "                      cv=5, \n",
    "                      n_jobs=-1\n",
    "                     )\n",
    "\n",
    "XGB_fitted_Dp = Dp_search_xgb.fit(X_train_Dp, y_train_Dp)\n",
    "XGB_fitted_Dp.score(X_test_Dp,y_test_Dp)"
   ]
  },
  {
   "cell_type": "code",
   "execution_count": 27,
   "metadata": {},
   "outputs": [
    {
     "data": {
      "text/plain": [
       "0.7996433252591678"
      ]
     },
     "execution_count": 27,
     "metadata": {},
     "output_type": "execute_result"
    }
   ],
   "source": [
    "#Oo\n",
    "Oo_xgb = XGBRegressor()\n",
    "\n",
    "grid = {'max_depth': [5, 10, 15],\n",
    "        'n_estimators':[15, 20, 25, 50], \n",
    "        'learning_rate':[0.01, 0.1]}\n",
    "\n",
    "Oo_search_xgb = GridSearchCV(Oo_xgb, \n",
    "                      grid,\n",
    "                      scoring='r2',\n",
    "                      cv=5, \n",
    "                      n_jobs=-1\n",
    "                     )\n",
    "\n",
    "XGB_fitted_Oo = Oo_search_xgb.fit(X_train_Oo, y_train_Oo)\n",
    "XGB_fitted_Oo.score(X_test_Oo,y_test_Oo)"
   ]
  },
  {
   "cell_type": "markdown",
   "metadata": {},
   "source": [
    "# Desicion Tree"
   ]
  },
  {
   "cell_type": "code",
   "execution_count": 30,
   "metadata": {},
   "outputs": [
    {
     "data": {
      "text/plain": [
       "0.5850844437885514"
      ]
     },
     "execution_count": 30,
     "metadata": {},
     "output_type": "execute_result"
    }
   ],
   "source": [
    "#Kn\n",
    "Kn_tree = DecisionTreeRegressor()\n",
    "\n",
    "cv_results = cross_validate(Kn_tree, X_train_Kn, y_train_Kn, scoring=\"r2\", cv=5)\n",
    "Kn_tree_score = cv_results['test_score'].mean()\n",
    "Kn_tree.fit(X_train_Kn, y_train_Kn)\n",
    "Kn_tree_score"
   ]
  },
  {
   "cell_type": "code",
   "execution_count": 29,
   "metadata": {},
   "outputs": [
    {
     "data": {
      "text/plain": [
       "0.6560779814207084"
      ]
     },
     "execution_count": 29,
     "metadata": {},
     "output_type": "execute_result"
    }
   ],
   "source": [
    "#Dp\n",
    "Dp_tree = DecisionTreeRegressor()\n",
    "\n",
    "cv_results = cross_validate(Dp_tree, X_train_Dp, y_train_Dp, scoring=\"r2\", cv=5)\n",
    "Dp_tree_score = cv_results['test_score'].mean()\n",
    "Dp_tree.fit(X_train_Dp, y_train_Dp)\n",
    "Dp_tree_score"
   ]
  },
  {
   "cell_type": "code",
   "execution_count": 31,
   "metadata": {},
   "outputs": [
    {
     "data": {
      "text/plain": [
       "0.5979052051002653"
      ]
     },
     "execution_count": 31,
     "metadata": {},
     "output_type": "execute_result"
    }
   ],
   "source": [
    "#Oo\n",
    "Oo_tree = DecisionTreeRegressor()\n",
    "\n",
    "cv_results = cross_validate(Oo_tree, X_train_Oo, y_train_Oo, scoring=\"r2\", cv=5)\n",
    "Oo_tree_score = cv_results['test_score'].mean()\n",
    "Oo_tree.fit(X_train_Oo, y_train_Oo)\n",
    "Oo_tree_score"
   ]
  },
  {
   "cell_type": "markdown",
   "metadata": {},
   "source": [
    "# Stacking"
   ]
  },
  {
   "cell_type": "code",
   "execution_count": 32,
   "metadata": {},
   "outputs": [
    {
     "name": "stderr",
     "output_type": "stream",
     "text": [
      "/Users/riotvan/.pyenv/versions/lewagon/lib/python3.8/site-packages/sklearn/ensemble/_voting.py:600: DataConversionWarning: A column-vector y was passed when a 1d array was expected. Please change the shape of y to (n_samples, ), for example using ravel().\n",
      "  y = column_or_1d(y, warn=True)\n"
     ]
    },
    {
     "name": "stdout",
     "output_type": "stream",
     "text": [
      "0.7994661756013022\n"
     ]
    },
    {
     "name": "stderr",
     "output_type": "stream",
     "text": [
      "/Users/riotvan/.pyenv/versions/lewagon/lib/python3.8/site-packages/sklearn/ensemble/_voting.py:600: DataConversionWarning: A column-vector y was passed when a 1d array was expected. Please change the shape of y to (n_samples, ), for example using ravel().\n",
      "  y = column_or_1d(y, warn=True)\n"
     ]
    },
    {
     "name": "stdout",
     "output_type": "stream",
     "text": [
      "0.8142846118160748\n"
     ]
    },
    {
     "name": "stderr",
     "output_type": "stream",
     "text": [
      "/Users/riotvan/.pyenv/versions/lewagon/lib/python3.8/site-packages/sklearn/ensemble/_voting.py:600: DataConversionWarning: A column-vector y was passed when a 1d array was expected. Please change the shape of y to (n_samples, ), for example using ravel().\n",
      "  y = column_or_1d(y, warn=True)\n"
     ]
    },
    {
     "name": "stdout",
     "output_type": "stream",
     "text": [
      "0.7960718970017368\n"
     ]
    }
   ],
   "source": [
    "#Kn\n",
    "Kn_ensemble = VotingRegressor(estimators=[('knn', Kn_search_knn), ('xgb', Kn_search_xgb), ('dt', Kn_tree)], weights=[.2,.6,.2])\n",
    "Kn_ensemble_stacked = Kn_ensemble.fit(X_train_Kn, y_train_Kn)\n",
    "Kn_ensemble_score = Kn_ensemble.score(X_test_Kn, y_test_Kn)\n",
    "print(Kn_ensemble_score)\n",
    "\n",
    "#Dp\n",
    "Dp_ensemble = VotingRegressor(estimators=[('knn', Dp_search_knn), ('xgb', Dp_search_xgb), ('dt', Dp_tree)], weights=[.2,.6,.2])\n",
    "Dp_ensemble_stacked = Dp_ensemble.fit(X_train_Dp, y_train_Dp)\n",
    "Dp_ensemble_score = Dp_ensemble.score(X_test_Dp, y_test_Dp)\n",
    "print(Dp_ensemble_score)\n",
    "\n",
    "#Oo\n",
    "Oo_ensemble = VotingRegressor(estimators=[('knn', Oo_search_knn), ('xgb', Oo_search_xgb), ('dt', Oo_tree)], weights=[.2,.6,.2])\n",
    "Oo_ensemble_stacked = Oo_ensemble.fit(X_train_Oo, y_train_Oo)\n",
    "Oo_ensemble_score = Oo_ensemble.score(X_test_Oo, y_test_Oo)\n",
    "print(Oo_ensemble_score)"
   ]
  },
  {
   "cell_type": "code",
   "execution_count": 33,
   "metadata": {},
   "outputs": [
    {
     "data": {
      "text/plain": [
       "['../raw_data/Oo_model.joblib']"
      ]
     },
     "execution_count": 33,
     "metadata": {},
     "output_type": "execute_result"
    }
   ],
   "source": [
    "joblib.dump(Kn_ensemble, '../raw_data/Kn_model.joblib')\n",
    "joblib.dump(Dp_ensemble, '../raw_data/Dp_model.joblib')\n",
    "joblib.dump(Oo_ensemble, '../raw_data/Oo_model.joblib')"
   ]
  }
 ],
 "metadata": {
  "kernelspec": {
   "display_name": "Python 3.8.13 64-bit ('shims')",
   "language": "python",
   "name": "python3"
  },
  "language_info": {
   "codemirror_mode": {
    "name": "ipython",
    "version": 3
   },
   "file_extension": ".py",
   "mimetype": "text/x-python",
   "name": "python",
   "nbconvert_exporter": "python",
   "pygments_lexer": "ipython3",
   "version": "3.8.13"
  },
  "orig_nbformat": 4,
  "vscode": {
   "interpreter": {
    "hash": "bebf96be514e4a040725a8725f1a0d223f69169051722105abc6b4c0bfd7c9cc"
   }
  }
 },
 "nbformat": 4,
 "nbformat_minor": 2
}
